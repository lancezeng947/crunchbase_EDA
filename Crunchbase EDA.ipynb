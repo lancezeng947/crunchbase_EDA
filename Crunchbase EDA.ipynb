{
 "cells": [
  {
   "cell_type": "code",
   "execution_count": 2,
   "metadata": {},
   "outputs": [],
   "source": [
    "import numpy as np\n",
    "import pandas as pd\n",
    "from matplotlib import pyplot as plt\n",
    "\n",
    "%matplotlib inline"
   ]
  },
  {
   "cell_type": "code",
   "execution_count": 4,
   "metadata": {},
   "outputs": [],
   "source": [
    "data = pd.read_csv('investments_VC.csv', encoding='latin1')"
   ]
  },
  {
   "cell_type": "code",
   "execution_count": 9,
   "metadata": {},
   "outputs": [
    {
     "name": "stdout",
     "output_type": "stream",
     "text": [
      "       funding_rounds  founded_year          seed       venture  \\\n",
      "count    49438.000000  38482.000000  4.943800e+04  4.943800e+04   \n",
      "mean         1.696205   2007.359129  2.173215e+05  7.501051e+06   \n",
      "std          1.294213      7.579203  1.056985e+06  2.847112e+07   \n",
      "min          1.000000   1902.000000  0.000000e+00  0.000000e+00   \n",
      "25%          1.000000   2006.000000  0.000000e+00  0.000000e+00   \n",
      "50%          1.000000   2010.000000  0.000000e+00  0.000000e+00   \n",
      "75%          2.000000   2012.000000  2.500000e+04  5.000000e+06   \n",
      "max         18.000000   2014.000000  1.300000e+08  2.351000e+09   \n",
      "\n",
      "       equity_crowdfunding   undisclosed  convertible_note  debt_financing  \\\n",
      "count         4.943800e+04  4.943800e+04      4.943800e+04    4.943800e+04   \n",
      "mean          6.163322e+03  1.302213e+05      2.336410e+04    1.888157e+06   \n",
      "std           1.999048e+05  2.981404e+06      1.432046e+06    1.382046e+08   \n",
      "min           0.000000e+00  0.000000e+00      0.000000e+00    0.000000e+00   \n",
      "25%           0.000000e+00  0.000000e+00      0.000000e+00    0.000000e+00   \n",
      "50%           0.000000e+00  0.000000e+00      0.000000e+00    0.000000e+00   \n",
      "75%           0.000000e+00  0.000000e+00      0.000000e+00    0.000000e+00   \n",
      "max           2.500000e+07  2.924328e+08      3.000000e+08    3.007950e+10   \n",
      "\n",
      "              angel         grant  ...  secondary_market  \\\n",
      "count  4.943800e+04  4.943800e+04  ...      4.943800e+04   \n",
      "mean   6.541898e+04  1.628453e+05  ...      3.845592e+04   \n",
      "std    6.582908e+05  5.612088e+06  ...      3.864461e+06   \n",
      "min    0.000000e+00  0.000000e+00  ...      0.000000e+00   \n",
      "25%    0.000000e+00  0.000000e+00  ...      0.000000e+00   \n",
      "50%    0.000000e+00  0.000000e+00  ...      0.000000e+00   \n",
      "75%    0.000000e+00  0.000000e+00  ...      0.000000e+00   \n",
      "max    6.359026e+07  7.505000e+08  ...      6.806116e+08   \n",
      "\n",
      "       product_crowdfunding       round_A       round_B       round_C  \\\n",
      "count          4.943800e+04  4.943800e+04  4.943800e+04  4.943800e+04   \n",
      "mean           7.074227e+03  1.243955e+06  1.492891e+06  1.205356e+06   \n",
      "std            4.282166e+05  5.531974e+06  7.472704e+06  7.993592e+06   \n",
      "min            0.000000e+00  0.000000e+00  0.000000e+00  0.000000e+00   \n",
      "25%            0.000000e+00  0.000000e+00  0.000000e+00  0.000000e+00   \n",
      "50%            0.000000e+00  0.000000e+00  0.000000e+00  0.000000e+00   \n",
      "75%            0.000000e+00  0.000000e+00  0.000000e+00  0.000000e+00   \n",
      "max            7.200000e+07  3.190000e+08  5.420000e+08  4.900000e+08   \n",
      "\n",
      "            round_D       round_E       round_F       round_G       round_H  \n",
      "count  4.943800e+04  4.943800e+04  4.943800e+04  4.943800e+04  4.943800e+04  \n",
      "mean   7.375261e+05  3.424682e+05  1.697692e+05  5.767067e+04  1.423197e+04  \n",
      "std    9.815218e+06  5.406915e+06  6.277905e+06  5.252312e+06  2.716865e+06  \n",
      "min    0.000000e+00  0.000000e+00  0.000000e+00  0.000000e+00  0.000000e+00  \n",
      "25%    0.000000e+00  0.000000e+00  0.000000e+00  0.000000e+00  0.000000e+00  \n",
      "50%    0.000000e+00  0.000000e+00  0.000000e+00  0.000000e+00  0.000000e+00  \n",
      "75%    0.000000e+00  0.000000e+00  0.000000e+00  0.000000e+00  0.000000e+00  \n",
      "max    1.200000e+09  4.000000e+08  1.060000e+09  1.000000e+09  6.000000e+08  \n",
      "\n",
      "[8 rows x 23 columns]\n"
     ]
    },
    {
     "data": {
      "text/plain": [
       "permalink               True\n",
       "name                    True\n",
       "homepage_url            True\n",
       "category_list           True\n",
       " market                 True\n",
       " funding_total_usd      True\n",
       "status                  True\n",
       "country_code            True\n",
       "state_code              True\n",
       "region                  True\n",
       "city                    True\n",
       "funding_rounds          True\n",
       "founded_at              True\n",
       "founded_month           True\n",
       "founded_quarter         True\n",
       "founded_year            True\n",
       "first_funding_at        True\n",
       "last_funding_at         True\n",
       "seed                    True\n",
       "venture                 True\n",
       "equity_crowdfunding     True\n",
       "undisclosed             True\n",
       "convertible_note        True\n",
       "debt_financing          True\n",
       "angel                   True\n",
       "grant                   True\n",
       "private_equity          True\n",
       "post_ipo_equity         True\n",
       "post_ipo_debt           True\n",
       "secondary_market        True\n",
       "product_crowdfunding    True\n",
       "round_A                 True\n",
       "round_B                 True\n",
       "round_C                 True\n",
       "round_D                 True\n",
       "round_E                 True\n",
       "round_F                 True\n",
       "round_G                 True\n",
       "round_H                 True\n",
       "dtype: bool"
      ]
     },
     "execution_count": 9,
     "metadata": {},
     "output_type": "execute_result"
    }
   ],
   "source": [
    "print(data.describe())\n",
    "data.isnull().any()"
   ]
  },
  {
   "cell_type": "code",
   "execution_count": null,
   "metadata": {},
   "outputs": [],
   "source": []
  }
 ],
 "metadata": {
  "kernelspec": {
   "display_name": "Python 3",
   "language": "python",
   "name": "python3"
  },
  "language_info": {
   "codemirror_mode": {
    "name": "ipython",
    "version": 3
   },
   "file_extension": ".py",
   "mimetype": "text/x-python",
   "name": "python",
   "nbconvert_exporter": "python",
   "pygments_lexer": "ipython3",
   "version": "3.7.1"
  }
 },
 "nbformat": 4,
 "nbformat_minor": 2
}
